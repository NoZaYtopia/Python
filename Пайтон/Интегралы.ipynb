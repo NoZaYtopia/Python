{
 "cells": [
  {
   "cell_type": "code",
   "execution_count": 44,
   "metadata": {},
   "outputs": [],
   "source": [
    "import math as m"
   ]
  },
  {
   "cell_type": "code",
   "execution_count": 56,
   "metadata": {},
   "outputs": [
    {
     "name": "stdout",
     "output_type": "stream",
     "text": [
      "Выберите тип уравнения\n",
      "Напишите соответствующую вашему выбору цифру\n",
      "1 - Полниом\n",
      "2 - Тригоноиетрическое уровнение\n",
      "3 - Перевернутый многочлен\n",
      "Тип уравнения: 3\n"
     ]
    }
   ],
   "source": [
    "print('Выберите тип уравнения')\n",
    "print('Напишите соответствующую вашему выбору цифру')\n",
    "print('1 - Полниом')\n",
    "print('2 - Тригоноиетрическое уровнение')\n",
    "print('3 - Перевернутый многочлен')\n",
    "eq_type=int(input('Тип уравнения: '))"
   ]
  },
  {
   "cell_type": "code",
   "execution_count": 38,
   "metadata": {
    "scrolled": true
   },
   "outputs": [
    {
     "name": "stdout",
     "output_type": "stream",
     "text": [
      "Введите степень полинома: 3\n",
      "a1 * x^3 + a2 * x^2 + a3 * x^1 + d\n",
      "Введите коэффициент a1: 4\n",
      "Введите коэффициент a2: 3\n",
      "Введите коэффициент a3: 2\n",
      "Введите коэффициент d: 1\n",
      "1.0 * x^4 + 1.0 * x^3 + 1.0 * x^2 + 1 * x + c\n",
      "Дайте конкретные значения переменной x и константы c, чтобы получить ответ:\n",
      "Введите значение x: 2\n",
      "Введите коэффициент c: 1\n",
      "31.0\n"
     ]
    }
   ],
   "source": [
    "if (eq_type==1):\n",
    "    degree=int(input('Введите степень полинома: '))\n",
    "    A=[0]*degree\n",
    "    B=[0]*degree\n",
    "    for i in range(0,degree):\n",
    "        print('a%d'%(i+1),'* x^%d'%(degree-i),'+ ',end='')\n",
    "    print('d')\n",
    "    for i in range(0,degree):\n",
    "        A[i]=float(input('Введите коэффициент a%d: '%(i+1)))\n",
    "    d=float(input('Введите коэффициент d: '))\n",
    "    for i in range(0,degree):\n",
    "        B[i]=A[i]/(degree-i+1)\n",
    "        print(B[i],'* x^%d'%(degree-i+1),'+ ',end='')\n",
    "    print(d,'* x + c')\n",
    "    print('Дайте конкретные значения переменной x и константы c, чтобы получить ответ:')\n",
    "    x=float(input('Введите значение x: '))\n",
    "    c=float(input('Введите коэффициент c: '))\n",
    "    answer=0\n",
    "    x_deg=x**(degree+1)\n",
    "    for i in range(0,degree):\n",
    "        answer+=B[i]*x_deg\n",
    "        x_deg=x_deg/x\n",
    "    answer+=d*x+c\n",
    "    print(answer)\n",
    "    "
   ]
  },
  {
   "cell_type": "code",
   "execution_count": 55,
   "metadata": {},
   "outputs": [
    {
     "name": "stdout",
     "output_type": "stream",
     "text": [
      "Выберите тип уравнения\n",
      "Напишите соответствующую вашему выбору цифру\n",
      "1 - sin\n",
      "2 - cos\n",
      "Тип уравнения: 2\n",
      "cos(ax+b)\n",
      "Введите коэффициент a: 3\n",
      "Введите коэффициент b: 2\n",
      "1/3 * sin(3 * x + 2) + c\n",
      "Дайте конкретные значения переменной x и константы c, чтобы получить ответ:\n",
      "Введите значение x: 0.34\n",
      "Введите коэффициент c: 2\n",
      "2.04043108501021\n"
     ]
    }
   ],
   "source": [
    "if (eq_type==2):\n",
    "    print('Выберите тип уравнения')\n",
    "    print('Напишите соответствующую вашему выбору цифру')\n",
    "    print('1 - sin')\n",
    "    print('2 - cos')\n",
    "    tr_type=int(input('Тип уравнения: '))\n",
    "    if (tr_type==1):\n",
    "        print('sin(ax+b)')\n",
    "        a=float(input('Введите коэффициент a: '))\n",
    "        b=float(input('Введите коэффициент b: '))\n",
    "        print('- 1/%d'%a,'* cos(%d'%a,'* x + %d)'%b,'+ c')\n",
    "        print('Дайте конкретные значения переменной x и константы c, чтобы получить ответ:')\n",
    "        x=float(input('Введите значение x: '))\n",
    "        c=float(input('Введите коэффициент c: '))\n",
    "        print(-1/a*m.cos(3*x+2)+c)\n",
    "    elif (tr_type==2):\n",
    "        print('cos(ax+b)')\n",
    "        a=float(input('Введите коэффициент a: '))\n",
    "        b=float(input('Введите коэффициент b: '))\n",
    "        print('1/%d'%a,'* sin(%d'%a,'* x + %d)'%b,'+ c')\n",
    "        print('Дайте конкретные значения переменной x и константы c, чтобы получить ответ:')\n",
    "        x=float(input('Введите значение x: '))\n",
    "        c=float(input('Введите коэффициент c: '))\n",
    "        print(1/a*m.sin(3*x+2)+c)"
   ]
  },
  {
   "cell_type": "code",
   "execution_count": 63,
   "metadata": {},
   "outputs": [
    {
     "name": "stdout",
     "output_type": "stream",
     "text": [
      "1/(a*x^2+b*x+d)\n",
      "Введите коэффициент a: 3\n",
      "Введите коэффициент b: 2\n",
      "Введите коэффициент d: 1\n",
      "1/(x^2 * 3 + x * 2 + 1)\n"
     ]
    }
   ],
   "source": [
    "if (eq_type==3):\n",
    "    print('1/(a*x^2+b*x+d)')\n",
    "    a=float(input('Введите коэффициент a: '))\n",
    "    b=float(input('Введите коэффициент b: '))\n",
    "    d=float(input('Введите коэффициент d: '))\n",
    "    print('1/(x^2 * %d'%a,'+ x * %d'%b,'+ %d)'%d)\n",
    "    print('2*arctg((2 * %d'%a,'* x + %d)'%b,'/(4 * %))')\n"
   ]
  },
  {
   "cell_type": "code",
   "execution_count": 69,
   "metadata": {},
   "outputs": [
    {
     "name": "stdout",
     "output_type": "stream",
     "text": [
      "dwadwa 2   \n"
     ]
    }
   ],
   "source": [
    "print('dwadwa %a   '%2)"
   ]
  },
  {
   "cell_type": "code",
   "execution_count": null,
   "metadata": {},
   "outputs": [],
   "source": []
  }
 ],
 "metadata": {
  "kernelspec": {
   "display_name": "Python 3",
   "language": "python",
   "name": "python3"
  },
  "language_info": {
   "codemirror_mode": {
    "name": "ipython",
    "version": 3
   },
   "file_extension": ".py",
   "mimetype": "text/x-python",
   "name": "python",
   "nbconvert_exporter": "python",
   "pygments_lexer": "ipython3",
   "version": "3.8.5"
  }
 },
 "nbformat": 4,
 "nbformat_minor": 4
}
