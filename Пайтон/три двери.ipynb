{
 "cells": [
  {
   "cell_type": "code",
   "execution_count": 8,
   "id": "83cc62cd-a636-44b4-beec-030083e46d74",
   "metadata": {},
   "outputs": [
    {
     "name": "stdout",
     "output_type": "stream",
     "text": [
      "Начальная вероятность успеха:                0.33337\n",
      "Вероятность успеха при выбере другого кбука: 0.66663\n"
     ]
    }
   ],
   "source": [
    "import random as r\n",
    "\n",
    "Kubki=[1,2,3]                                 # Задаем 3 кубка/двери\n",
    "Ne_Menyem=0                                   # Счетчик удачных исходов, при том же кубке\n",
    "Menyem=0                                      # Счетчик удачных исходов, при смене кубка\n",
    "Yberem=1                                      # Кубок, который мы убираем\n",
    "for i in range (0,100000):                    # Цикл\n",
    "    VbIbor=r.randint(1,3)                     # Выберем кубок\n",
    "    Ydacha=r.randint(1,3)                     # Выберем удачный кубок, под которым ягода\n",
    "    while (Yberem==VbIbor or Yberem==Ydacha): # По условию мы убираем кубок, которые не удачный и не выбранный\n",
    "        Yberem=r.randint(1,3)                 # Меняем номер кубка, котоырй убираем, пока условие не будет удовлетворено\n",
    "    if (VbIbor==Ydacha):                      # Если изначальный выбор удачный - повышаем счетчик \"не меняем\"\n",
    "        Ne_Menyem+=1\n",
    "    if (Ydacha==6-Yberem-VbIbor):             # Иначе - повышаем счетччик \"меняем\". Да, условие костыльное, но логически \n",
    "                                              # верное\n",
    "        Menyem+=1\n",
    "print (\"Начальная вероятность успеха:               \",Ne_Menyem/100000)\n",
    "print (\"Вероятность успеха при выбере другого кбука:\",Menyem/100000)"
   ]
  },
  {
   "cell_type": "code",
   "execution_count": 46,
   "id": "c51bc948-2905-4192-9f60-925d3df4c80f",
   "metadata": {},
   "outputs": [
    {
     "name": "stdout",
     "output_type": "stream",
     "text": [
      "Ydacha =  3\n",
      "Yberem =  2\n",
      "VbIbor =  3\n"
     ]
    }
   ],
   "source": [
    "Ne_Menyem=0\n",
    "Kubki=[1,2,3]\n",
    "Menyem=0\n",
    "Yberem\n",
    "\n",
    "VbIbor=r.randint(1,3)\n",
    "Ydacha=r.randint(1,3)\n",
    "while (Yberem==VbIbor or Yberem==Ydacha):\n",
    "    Yberem=r.randint(1,3)\n",
    "if (VbIbor==Ydacha):\n",
    "    Ne_Menyem+=1\n",
    "print(\"Ydacha = \",Ydacha)\n",
    "print(\"Yberem = \",Yberem)\n",
    "print(\"VbIbor = \",VbIbor)\n",
    "\n",
    "if (Ydacha==6-Yberem-VbIbor):\n",
    "    Menyem+=1"
   ]
  },
  {
   "cell_type": "code",
   "execution_count": null,
   "id": "afd6810e-a3b3-4f58-a220-e9e2281b073a",
   "metadata": {},
   "outputs": [],
   "source": []
  }
 ],
 "metadata": {
  "kernelspec": {
   "display_name": "Python 3 (ipykernel)",
   "language": "python",
   "name": "python3"
  },
  "language_info": {
   "codemirror_mode": {
    "name": "ipython",
    "version": 3
   },
   "file_extension": ".py",
   "mimetype": "text/x-python",
   "name": "python",
   "nbconvert_exporter": "python",
   "pygments_lexer": "ipython3",
   "version": "3.11.7"
  }
 },
 "nbformat": 4,
 "nbformat_minor": 5
}
