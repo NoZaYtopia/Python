{
 "cells": [
  {
   "cell_type": "code",
   "execution_count": 31,
   "metadata": {
    "scrolled": true
   },
   "outputs": [
    {
     "name": "stdout",
     "output_type": "stream",
     "text": [
      "Введите, элементы массива. Закончить ввод словом \"end\".\n",
      "0\n",
      "1\n",
      "end\n",
      "\n",
      "['0', '1'] 1\n",
      "\n",
      "['1', '0'] 2\n",
      "\n"
     ]
    }
   ],
   "source": [
    "def swap(A,x,y):\n",
    "    temp=A[x]\n",
    "    A[x]=A[y]\n",
    "    A[y]=temp\n",
    "    return(A)\n",
    "it=1\n",
    "\n",
    "def p(A,x):\n",
    "    global it\n",
    "    T=[]\n",
    "    l=len(A)\n",
    "    if (x==l-1):\n",
    "        for i in range(0,l):\n",
    "            T.append(A[i])\n",
    "        print(T,it)\n",
    "        print()\n",
    "        it+=1\n",
    "    else:\n",
    "        for i in range(x,l):\n",
    "            swap(A,x,i)\n",
    "            x=x+1\n",
    "            p(A,x)\n",
    "            x=x-1\n",
    "            swap(A,x,i)\n",
    "A=[]\n",
    "temp=''\n",
    "print('Введите, элементы массива. Закончить ввод словом \"end\".')\n",
    "while (temp!='end'):\n",
    "    temp=input()\n",
    "    if (temp=='end'):\n",
    "        break\n",
    "    A.append(temp)\n",
    "print()\n",
    "\n",
    "p(A,0)\n",
    " "
   ]
  },
  {
   "cell_type": "code",
   "execution_count": null,
   "metadata": {},
   "outputs": [],
   "source": []
  }
 ],
 "metadata": {
  "kernelspec": {
   "display_name": "Python 3",
   "language": "python",
   "name": "python3"
  },
  "language_info": {
   "codemirror_mode": {
    "name": "ipython",
    "version": 3
   },
   "file_extension": ".py",
   "mimetype": "text/x-python",
   "name": "python",
   "nbconvert_exporter": "python",
   "pygments_lexer": "ipython3",
   "version": "3.8.5"
  }
 },
 "nbformat": 4,
 "nbformat_minor": 4
}
