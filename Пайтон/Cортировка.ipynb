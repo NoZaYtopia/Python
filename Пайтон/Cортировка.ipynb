{
 "cells": [
  {
   "cell_type": "code",
   "execution_count": 1,
   "metadata": {},
   "outputs": [],
   "source": [
    "seed=633466621\n",
    "#a=23\n",
    "a=29\n",
    "b=97\n",
    "#M=9876987698769876\n",
    "M=1000000\n",
    "chislo=[0]*16\n",
    "def RNG(down_lim,up_lim):\n",
    "    for i in range(0,19):\n",
    "        global seed\n",
    "        seed =(a*seed+b)%M\n",
    "        temp=seed\n",
    "        chislo=[int(a) for a in str(seed)]\n",
    "        for i in range (0,16-len(chislo)):\n",
    "            chislo.insert(0,0) \n",
    "#    for i in range(0,16):\n",
    "#        chislo[i]=temp//10**(15-i)\n",
    "#        temp=temp%10**(15-i)\n",
    "        temp_mas1=chislo.copy()\n",
    "        temp_mas2=chislo.copy()\n",
    "        temp_mas3=[0]*16\n",
    "        for i in range(0,3):\n",
    "            temp_mas1.pop(0)\n",
    "            temp_mas2.pop(15-i)\n",
    "        for i in range(0,3):\n",
    "            temp_mas1.append(chislo[i])\n",
    "            temp_mas2.insert(0,chislo[15-i]) \n",
    "#    t=0\n",
    "#    for i in range(0,16):\n",
    "#        t+=(temp_mas1[i]*10**(15-i)+temp_mas2[i]*10**(15-i))%10**(16-i)\n",
    "        for i in range(0,16):\n",
    "            temp_mas3[i]=(temp_mas1[i]+temp_mas2[i])%10\n",
    "        t=[int(''.join(map(str,temp_mas3)))]\n",
    "        seed=t[0]\n",
    "        return (int(down_lim+(up_lim-down_lim)*((seed)/(10**16-1))))\n",
    "\n"
   ]
  },
  {
   "cell_type": "code",
   "execution_count": 42,
   "metadata": {},
   "outputs": [],
   "source": [
    "def merge(M):\n",
    "    Done=[0]*len(M)\n",
    "    print(len(Done))\n",
    "    temp=0\n",
    "    R=[0]*(len(M)//2)\n",
    "    L=[0]*(len(M)//2)\n",
    "    if len(M)%2==1:\n",
    "        temp=M[len(M)-1]\n",
    "    rR=len(R)\n",
    "    rL=len(L)\n",
    "    lR=0\n",
    "    lL=0\n",
    "    for i in range(0,len(M)//2):\n",
    "        L[i]=M[i]\n",
    "        R[i]=M[i+len(M)//2]\n",
    "    it=0\n",
    "    while  (lL<rL) and (lR<rR):\n",
    "        if (len(M)%2==1) and (temp<L[lL]) and (temp<R[lR]):\n",
    "            print(it)\n",
    "            Done[it]=temp\n",
    "            it+=1\n",
    "        else:\n",
    "            if L[lL]<R[lR]:\n",
    "                Done[it]=L[lL]\n",
    "                lL+=1\n",
    "            else:\n",
    "                Done[it]=R[lR]\n",
    "                lR+=1\n",
    "            it+=1\n",
    "    print(M)\n",
    "    if lL==rL:\n",
    "        for i in range (lR,rR):\n",
    "            Done[it]=R[i]\n",
    "            it+=1\n",
    "    else:\n",
    "        for i in range (lL,rL):\n",
    "            Done[it]=L[i]\n",
    "            it+=1\n",
    "    return(Done)\n",
    "            \n",
    "            \n",
    "            \n",
    "            "
   ]
  },
  {
   "cell_type": "code",
   "execution_count": 43,
   "metadata": {},
   "outputs": [
    {
     "name": "stdout",
     "output_type": "stream",
     "text": [
      "8\n",
      "[5, 8, 3, 4, 1, 2, 7, 9]\n",
      "[1, 2, 5, 7, 8, 3, 4, 9]\n"
     ]
    }
   ],
   "source": [
    "M=[5,8,3,4,1,2,7,9]\n",
    "\n",
    "print(merge(M))"
   ]
  },
  {
   "cell_type": "code",
   "execution_count": null,
   "metadata": {},
   "outputs": [],
   "source": []
  },
  {
   "cell_type": "code",
   "execution_count": null,
   "metadata": {},
   "outputs": [],
   "source": []
  },
  {
   "cell_type": "code",
   "execution_count": null,
   "metadata": {},
   "outputs": [],
   "source": []
  },
  {
   "cell_type": "code",
   "execution_count": null,
   "metadata": {},
   "outputs": [],
   "source": [
    "def merge(M):\n",
    "    if (len(M)>2):\n",
    "        if (len(M)%2==1):\n",
    "            R=[0]*(len(M)//2)\n",
    "            L=[0]*(len(M)//2)\n",
    "        else:\n",
    "            R=[0]*((len(M)//2)+1)\n",
    "            L=[0]*(len(M)//2)\n",
    "            R[len(M)//2]=M[len(M)]\n",
    "        for i in range(0,len(M)//2):\n",
    "            L[i]=M[i]\n",
    "            R[i]=M[i+len(M)//2]\n",
    "        merge(R)\n",
    "        merge(L)\n",
    "    else:\n",
    "        "
   ]
  }
 ],
 "metadata": {
  "kernelspec": {
   "display_name": "Python 3",
   "language": "python",
   "name": "python3"
  },
  "language_info": {
   "codemirror_mode": {
    "name": "ipython",
    "version": 3
   },
   "file_extension": ".py",
   "mimetype": "text/x-python",
   "name": "python",
   "nbconvert_exporter": "python",
   "pygments_lexer": "ipython3",
   "version": "3.8.5"
  }
 },
 "nbformat": 4,
 "nbformat_minor": 4
}
