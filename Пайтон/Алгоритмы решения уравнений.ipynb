{
 "cells": [
  {
   "cell_type": "code",
   "execution_count": 17,
   "metadata": {},
   "outputs": [
    {
     "name": "stdout",
     "output_type": "stream",
     "text": [
      "-0.72454833984375\n",
      "-0.7244873046875\n",
      "0.00014215233488279466\n",
      "-1.1733968150684504e-05\n",
      "15\n"
     ]
    }
   ],
   "source": [
    "def f(x):\n",
    "    return x*x*x*x-x-1\n",
    "a=-1\n",
    "b=1\n",
    "e=0.0001\n",
    "id=0\n",
    "while abs(a-b)>e:\n",
    "    d=(a+b)/2\n",
    "    if f(a)*f(d)<0:\n",
    "        b=d\n",
    "    else:\n",
    "        if f(b)*f(d)<0:\n",
    "            a=d\n",
    "    id=id+1\n",
    "print (a)\n",
    "print (b)\n",
    "print (f(a))\n",
    "print (f(b))\n",
    "print (id)"
   ]
  },
  {
   "cell_type": "code",
   "execution_count": 1,
   "metadata": {},
   "outputs": [
    {
     "name": "stdout",
     "output_type": "stream",
     "text": [
      "-0.00015270341047335378  ,  -0.7244313845119646\n",
      "10\n"
     ]
    }
   ],
   "source": [
    "def f(x):\n",
    "    return x*x*x*x-x-1\n",
    "a=-1\n",
    "b=1\n",
    "e=0.0001\n",
    "ih=1\n",
    "k=(f(b)-f(a))/abs(a-b)\n",
    "q=f(b)-k*b\n",
    "d=-q/k\n",
    "\n",
    "while abs(d-b)>e:\n",
    "    b=d\n",
    "    k=(f(b)-f(a))/abs(a-b)\n",
    "    q=f(b)-k*b\n",
    "    d=-q/k\n",
    "    ih=ih+1\n",
    "print (f(b),' , ',b)\n",
    "print (ih)"
   ]
  },
  {
   "cell_type": "code",
   "execution_count": 15,
   "metadata": {},
   "outputs": [
    {
     "name": "stdout",
     "output_type": "stream",
     "text": [
      "1.0  ,  0.0\n",
      "1.0000852459343479  ,  8.524956767930906e-05\n",
      "30\n"
     ]
    },
    {
     "data": {
      "image/png": "[encoded data removed]",
      "text/plain": [
       "<Figure size 432x288 with 1 Axes>"
      ]
     },
     "metadata": {
      "needs_background": "light"
     },
     "output_type": "display_data"
    }
   ],
   "source": [
    "import math\n",
    "import matplotlib.pyplot as plt\n",
    "f_graph=[]\n",
    "x_graph=[]\n",
    "for i in range (0,101,1):\n",
    "    x_graph.append(0.01*i+0.5)\n",
    "for i in range (0,101,1):\n",
    "    f_graph.append(x_graph[i]*math.log(x_graph[i]))\n",
    "def f(x):\n",
    "    return x*math.log(x)\n",
    "a=1\n",
    "b=1.5\n",
    "e=0.0001\n",
    "ii=0\n",
    "while abs(a-b)>e:\n",
    "    temp=b\n",
    "    b=a-math.cos(a)*f(a)\n",
    "    a=temp\n",
    "    ii+=1\n",
    "print(a,' , ',f(a))\n",
    "print(b,' , ',f(b))\n",
    "print(ii)\n",
    "\n",
    "plt.plot(x_graph,f_graph)\n",
    "plt.show()"
   ]
  },
  {
   "cell_type": "code",
   "execution_count": 53,
   "metadata": {},
   "outputs": [
    {
     "name": "stdout",
     "output_type": "stream",
     "text": [
      "1.000007491581285  ,  7.491609346926745e-06\n",
      "1.0000000000280616  ,  2.8061553081609332e-11\n",
      "5\n"
     ]
    }
   ],
   "source": [
    "import math\n",
    "def f(x):\n",
    "    return x*math.log(x)\n",
    "a=0.5\n",
    "e=0.0001\n",
    "ii=1\n",
    "x=a-math.log(a)*a/(math.log(a)+1)\n",
    "\n",
    "while abs(a-x)>e:\n",
    "    a=x\n",
    "    x=a-math.log(a)*a/(math.log(a)+1)\n",
    "    ii+=1\n",
    "print(a,' , ',f(a))\n",
    "print(x,' , ',f(x))\n",
    "print(ii)"
   ]
  },
  {
   "cell_type": "code",
   "execution_count": 18,
   "metadata": {
    "scrolled": false
   },
   "outputs": [
    {
     "name": "stdout",
     "output_type": "stream",
     "text": [
      "[1.4334471560385562, 1.7161886591045938]  ,  [0.00010177441603254067, -2.9650635598788e-05]\n",
      "[1.4334438825537985, 1.7161886590647668]  ,  [8.159532802132219e-05, -2.3771828151941676e-05]\n",
      "41\n"
     ]
    }
   ],
   "source": [
    "import numpy as np\n",
    "def f(x):\n",
    "    t=[0,0]\n",
    "    t[0]=x[0]*x[0]*x[0]+x[1]*x[1]*x[1]-8\n",
    "    t[1]=x[1]-x[0]**(3/2)\n",
    "    return t\n",
    "def df(x):\n",
    "    t=[[0,0],[0,0]]\n",
    "    t[0][0]=3*x[0]*x[0]\n",
    "    t[0][1]=3*x[1]*x[1]\n",
    "    t[1][0]=-3/2*x[0]**(1/2)\n",
    "    t[1][1]=1\n",
    "    return t\n",
    "def inv(x):\n",
    "    t=[[0,0],[0,0]]\n",
    "    det=x[0][0]*x[1][1]-x[0][1]*x[1][0]\n",
    "    t[0][0]=x[1][1]/det\n",
    "    t[0][1]=-x[1][0]/det\n",
    "    t[1][0]=-x[0][1]/det\n",
    "    t[1][1]=x[0][0]/det\n",
    "    return t\n",
    "def Metod(x):\n",
    "    t=[0,0]\n",
    "    for i in range (0,2):\n",
    "        t[i]=x[i]-inv(df(x))[0][i]*f(x)[0]-inv(df(x))[i][i]*f(x)[1]\n",
    "    return t\n",
    "def Dlina(x):\n",
    "#    t=f(x)[0]-f(x)[1]\n",
    "    t=(f(x)[0]*f(x)[0]+f(x)[1]*f(x)[1])**0.5\n",
    "    return t\n",
    "a=[1]*2\n",
    "x=Metod(a)\n",
    "ii=0\n",
    "while abs(Dlina(x))>e:\n",
    "#for i in range (1000):\n",
    "    a=x.copy()\n",
    "    x=Metod(a)\n",
    "    ii+=1\n",
    "print(a,' , ',f(a))\n",
    "print(x,' , ',f(x))\n",
    "print(ii)"
   ]
  },
  {
   "cell_type": "code",
   "execution_count": 55,
   "metadata": {},
   "outputs": [
    {
     "name": "stdout",
     "output_type": "stream",
     "text": [
      "[3, 2, 4, 3]\n"
     ]
    }
   ],
   "source": [
    "x=[0]*2\n",
    "b=[3,2]\n",
    "h=[4,3]\n",
    "x=b+h\n",
    "print(x)"
   ]
  },
  {
   "cell_type": "code",
   "execution_count": 65,
   "metadata": {},
   "outputs": [
    {
     "name": "stdout",
     "output_type": "stream",
     "text": [
      "1  ,  2.0  ,  1.0  ,  2.0\n"
     ]
    }
   ],
   "source": [
    "def f(x):\n",
    "    t=[[0,0],[0,0]]\n",
    "    t[0][0]=1*x[0]\n",
    "    t[0][1]=2*x[1]\n",
    "    t[1][0]=3*x[0]\n",
    "    t[1][1]=5*x[1]\n",
    "    return t\n",
    "def ff(x):\n",
    "    t=[[0,0],[0,0]]\n",
    "    t[0][0]=1*x[0][0]\n",
    "    t[0][1]=x[0][1]/2\n",
    "    t[1][0]=x[1][0]/3\n",
    "    t[1][1]=x[1][1]/5\n",
    "    return t\n",
    "x=[1,2]\n",
    "print(ff(f(x))[0][0],' , ',ff(f(x))[0][1],' , ',ff(f(x))[1][0],' , ',ff(f(x))[1][1])"
   ]
  },
  {
   "cell_type": "code",
   "execution_count": 78,
   "metadata": {},
   "outputs": [
    {
     "name": "stdout",
     "output_type": "stream",
     "text": [
      "[1, 2] 0.047619047619047616 [[3, 12], [-1.5, 1]]\n",
      "[1, 2] -0.5714285714285714 [[3, 12], [-1.5, 1]]\n"
     ]
    }
   ],
   "source": [
    "import numpy as np\n",
    "def f(x):\n",
    "    t=[0,0]\n",
    "    t[0]=x[0]*x[0]*x[0]+x[1]*x[1]*x[1]-8\n",
    "    t[1]=x[1]-x[0]**(3/2)\n",
    "    return t\n",
    "def df(x):\n",
    "    t=[[0,0],[0,0]]\n",
    "    t[0][0]=3*x[0]*x[0]\n",
    "    t[0][1]=3*x[1]*x[1]\n",
    "    t[1][0]=-3/2*x[0]**(1/2)\n",
    "    t[1][1]=1\n",
    "    return t\n",
    "def inv(x):\n",
    "    t=[[0,0],[0,0]]\n",
    "    det=x[0][0]*x[1][1]-x[0][1]*x[1][0]\n",
    "    t[0][0]=x[1][1]/det\n",
    "    t[0][1]=-x[1][0]/det\n",
    "    t[1][0]=-x[0][1]/det\n",
    "    t[1][1]=x[0][0]/det\n",
    "    return t\n",
    "t=[0,0]\n",
    "for i in range (0,2):\n",
    "    l=df(x)\n",
    "    k=inv(l)\n",
    "    print(x,k[i][0],l)\n",
    "#t[i]=x[i]-k[i][0]*k[i][1]*l[i]"
   ]
  },
  {
   "cell_type": "code",
   "execution_count": null,
   "metadata": {},
   "outputs": [],
   "source": []
  }
 ],
 "metadata": {
  "kernelspec": {
   "display_name": "Python 3",
   "language": "python",
   "name": "python3"
  },
  "language_info": {
   "codemirror_mode": {
    "name": "ipython",
    "version": 3
   },
   "file_extension": ".py",
   "mimetype": "text/x-python",
   "name": "python",
   "nbconvert_exporter": "python",
   "pygments_lexer": "ipython3",
   "version": "3.8.5"
  }
 },
 "nbformat": 4,
 "nbformat_minor": 4
}
