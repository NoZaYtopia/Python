{
 "cells": [
  {
   "cell_type": "code",
   "execution_count": 9,
   "metadata": {},
   "outputs": [
    {
     "name": "stdout",
     "output_type": "stream",
     "text": [
      "(a1 + i * a2) * x^2 + (b1 + i * b2) * x + (c1 + i * c2) = 0\n",
      "Enter the a1: 0\n",
      "Enter the a2: 0\n",
      "Enter the b1: 2\n",
      "Enter the b2: 1\n",
      "Enter the c1: -4\n",
      "Enter the c2: -3\n",
      "x = 2.2  + i *  0.4\n"
     ]
    }
   ],
   "source": [
    "print(\"(a1 + i * a2) * x^2 + (b1 + i * b2) * x + (c1 + i * c2) = 0\")\n",
    "a1=float(input(\"Enter the a1: \"))\n",
    "a2=float(input(\"Enter the a2: \"))\n",
    "b1=float(input(\"Enter the b1: \"))\n",
    "b2=float(input(\"Enter the b2: \"))\n",
    "c1=float(input(\"Enter the c1: \"))\n",
    "c2=float(input(\"Enter the c2: \"))\n",
    "if (a1+a2==0) and (b1+b2!=0):\n",
    "    print(\"x =\", (-c1*b1-c2*b2)/(b1**2+b2**2),\" + i * \", (-c2*b1+b2*c1)/(b1**2+b2**2))\n",
    "if (a1+a2==0) and (b1+b2==0):\n",
    "    print('x is not found')\n",
    "if (b1+b2==0) and (a1+a2!=0):\n",
    "    "
   ]
  },
  {
   "cell_type": "code",
   "execution_count": 82,
   "metadata": {},
   "outputs": [
    {
     "name": "stdout",
     "output_type": "stream",
     "text": [
      "a * x^2 + b * x + c = 0\n",
      "Enter the a: 1\n",
      "Enter the b: 4\n",
      "Enter the c: 5\n",
      "x1 =  -2.0  + i *  1.0\n",
      "x2 =  -2.0  - i *  1.0\n"
     ]
    }
   ],
   "source": [
    "print(\"a * x^2 + b * x + c = 0\")\n",
    "a=float(input(\"Enter the a: \"))\n",
    "b=float(input(\"Enter the b: \"))\n",
    "c=float(input(\"Enter the c: \"))\n",
    "if(a==0)and(b==0):\n",
    "    print(\"x любое\")\n",
    "if(a==0)and(b!=0):\n",
    "    print(\"x = \",-c/b)\n",
    "if(b==0)and(a!=0):\n",
    "    if(c*a<0):\n",
    "        print('x1 = ',abs(c/a)**0.5,'x2 = ',-abs(c/a)**0.5)\n",
    "    else:\n",
    "        print(\"x1 = i * \",abs(c/a)**0.5,'x2 = i * ',-abs(c/a)**0.5)\n",
    "if(a!=0)and(b!=0):\n",
    "    d=b**2-4*a*c\n",
    "    if(d==0):\n",
    "        print ('x = ',-b/(2*a))\n",
    "    if(d<0):\n",
    "        print('x1 = ',-b/(2*a),\" + i * \", (-d)**0.5/(2*a))\n",
    "        print('x2 = ',-b/(2*a),\" - i * \", (-d)**0.5/(2*a))\n",
    "    if(d>0):\n",
    "        print('x1 = ',(-b+d**0.5)/(2*a))\n",
    "        print('x2 = ',(-b-d**0.5)/(2*a))"
   ]
  },
  {
   "cell_type": "code",
   "execution_count": 31,
   "metadata": {},
   "outputs": [
    {
     "name": "stdout",
     "output_type": "stream",
     "text": [
      "a1 * x + b1 * y = c1\n",
      "a2 * x + b2 * y = c2\n",
      "Enter the a1: 1\n",
      "Enter the b1: 2\n",
      "Enter the c1: 3\n",
      "Enter the a2: 3\n",
      "Enter the b2: 2\n",
      "Enter the c2: 1\n",
      "x =  -1.0 ; y =  2.0\n"
     ]
    }
   ],
   "source": [
    "print(\"a1 * x + b1 * y = c1\")\n",
    "print(\"a2 * x + b2 * y = c2\")\n",
    "a1=float(input(\"Enter the a1: \"))\n",
    "b1=float(input(\"Enter the b1: \"))\n",
    "c1=float(input(\"Enter the c1: \"))\n",
    "a2=float(input(\"Enter the a2: \"))\n",
    "b2=float(input(\"Enter the b2: \"))\n",
    "c2=float(input(\"Enter the c2: \"))\n",
    "if ((a1+b1==0) and (c1!=0)) or ((a2+b2==0) and (c2!=0)):\n",
    "    print ('invalid data')\n",
    "else:\n",
    "    if (a1+b1==0):\n",
    "        if (a2+b2==0):\n",
    "            print ('invalid data')\n",
    "        else:\n",
    "            print(\"x=\",-b2/a2,\" * y + \",-c2/a2)\n",
    "    else:\n",
    "        if (a2+b2==0):\n",
    "            print(\"x=\",-b1/a1,\" * y + \",-c1/a1)\n",
    "        if (a1*b2-a2*b1==0):\n",
    "            if (c1*b2-c2*b1!=0) and (a1*b2-a2*b1!=0):\n",
    "                print(\"Cистема не имеет решений\")\n",
    "            else:\n",
    "                if (a1==0):\n",
    "                    print(\"x=\",-b1/a1,\" * y + \",-c1/a1)\n",
    "                print(\"x=\",-b1/a1,\" * y + \",-c1/a1)\n",
    "        else:\n",
    "            print('x = ',(c1*b2-c2*b1)/(a1*b2-a2*b1),'; y = ',(a1*c2-a2*c1)/(a1*b2-a2*b1))"
   ]
  },
  {
   "cell_type": "code",
   "execution_count": 75,
   "metadata": {},
   "outputs": [
    {
     "name": "stdout",
     "output_type": "stream",
     "text": [
      "a1 * x + b1 * y = c1\n",
      "a2 * x + b2 * y = c2\n",
      "Enter the a1: 1\n",
      "Enter the b1: 1\n",
      "Enter the c1: 1\n",
      "Enter the a2: 0\n",
      "Enter the b2: 0\n",
      "Enter the c2: 0\n",
      "x= -1.0  * y +  1.0\n"
     ]
    }
   ],
   "source": [
    "print(\"a1 * x + b1 * y = c1\")\n",
    "print(\"a2 * x + b2 * y = c2\")\n",
    "a1=float(input(\"Enter the a1: \"))\n",
    "b1=float(input(\"Enter the b1: \"))\n",
    "c1=float(input(\"Enter the c1: \"))\n",
    "a2=float(input(\"Enter the a2: \"))\n",
    "b2=float(input(\"Enter the b2: \"))\n",
    "c2=float(input(\"Enter the c2: \"))\n",
    "if (a1+b1+a2+b2==0):\n",
    "    if (c1+c2==0):\n",
    "        print ('x - любое, y - любое')\n",
    "    else:\n",
    "        print(\"Нет решений\")\n",
    "if (a1+b1+b2+a2+c1+c2==a1) or (a1+b1+b2+a2+c1+c2==a2) or (a1+b1+b2+a2+c1+c2==b1) or (a1+b1+b2+a2+c1+c2==b2+a1) or (a1+b1+b2+a2+c1+c2==b1+a2) or (a1+b1+b2+a2+c1+c2==b1+b2) or (a1+b1+b2+a2+c1+c2==a1+a2):\n",
    "    print ('x - любое; y - любое')\n",
    "else:\n",
    "    if (a1+b1==0):\n",
    "        if (c1==0):\n",
    "            if (a2==0):\n",
    "                print('y = ',c2/b2,'x - любое')\n",
    "            else:\n",
    "                if (b2==0):\n",
    "                    print('x = ',c2/a2,'y - любое')\n",
    "                else:\n",
    "                    print(\"x=\",-b2/a2,\" * y + \",c2/a2)\n",
    "        else:\n",
    "            print('Нет решений')\n",
    "    else:\n",
    "        if (a2+b2==0):\n",
    "            if (c2==0):\n",
    "                if (a1==0):\n",
    "                    print('y = ',c1/b1,'x - любое')\n",
    "                else:\n",
    "                    if (b1==0):\n",
    "                        print('x = ',c1/a1,'y - любое')\n",
    "                    else:\n",
    "                        print(\"x=\",-b1/a1,\" * y + \",c1/a1)\n",
    "            else:\n",
    "                print('Нет решений')\n",
    "        else:\n",
    "            if (a1+a2==0):\n",
    "                if (c1/b1!=c2/b2):\n",
    "                    print('Нет решений')\n",
    "                else:\n",
    "                    print('y = ',c1/b1,'x - любое')\n",
    "            else:\n",
    "                if (b1+b2==0):\n",
    "                    if (c1/a1!=c2/a2):\n",
    "                        print('Нет решений')\n",
    "                    else:\n",
    "                        print('x = ',c1/a1,'y - любое')\n",
    "                else:\n",
    "                    if (a1==0):\n",
    "                        if (b2!=0):\n",
    "                            print(\"x = \",(c2-b2*c1/b1)/a2,'; y = ',c1/b1)\n",
    "                        else:\n",
    "                            print('x = ',c2/a2,\"; y = \",c1/b1)\n",
    "                    else:\n",
    "                        if (a2==0):\n",
    "                            if (b1!=0):\n",
    "                                print(\"x = \",(c1-b1*c2/b2)/a1,\"; y = \",c2/b2)\n",
    "                            else:\n",
    "                                print('x = ',c1/a1,\"; y = \",c2/b2)\n",
    "                        else:\n",
    "                            if (b1==0):\n",
    "                                print(\"y = \",(c2-a2*c1/a1)/b2,\"; x = \",c1/a1)\n",
    "                            else:\n",
    "                                if (b2==0):\n",
    "                                    print(\"y = \",(c1-a1*c2/a2)/b1,\"; x = \",c2/a2)\n",
    "                                else:\n",
    "                                    if (a1*b2-a2*b1==0):\n",
    "                                        if (c1*b2-c2*b1!=0) and (a1*b2-a2*b1!=0):\n",
    "                                            print(\"Cистема не имеет решений\")\n",
    "                                        else:\n",
    "                                            print(\"x=\",-b1/a1,\"; * y + \",-c1/a1)\n",
    "                                    else:\n",
    "                                        print('x = ',(c1*b2-c2*b1)/(a1*b2-a2*b1),'; y = ',(a1*c2-a2*c1)/(a1*b2-a2*b1))\n",
    "        \n"
   ]
  },
  {
   "cell_type": "code",
   "execution_count": null,
   "metadata": {},
   "outputs": [],
   "source": []
  }
 ],
 "metadata": {
  "kernelspec": {
   "display_name": "Python 3",
   "language": "python",
   "name": "python3"
  },
  "language_info": {
   "codemirror_mode": {
    "name": "ipython",
    "version": 3
   },
   "file_extension": ".py",
   "mimetype": "text/x-python",
   "name": "python",
   "nbconvert_exporter": "python",
   "pygments_lexer": "ipython3",
   "version": "3.8.5"
  }
 },
 "nbformat": 4,
 "nbformat_minor": 5
}
