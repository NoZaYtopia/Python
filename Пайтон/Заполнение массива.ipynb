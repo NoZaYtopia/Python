{
 "cells": [
  {
   "cell_type": "code",
   "execution_count": 166,
   "id": "2fb7dfe5",
   "metadata": {},
   "outputs": [
    {
     "name": "stdout",
     "output_type": "stream",
     "text": [
      "Enter the width: 8\n",
      "[0, 0, 0, 0, 0, 0, 0, 8]\n",
      "[0, 0, 0, 0, 0, 0, 7, 0]\n",
      "[0, 0, 0, 0, 0, 6, 14, 0]\n",
      "[0, 0, 0, 0, 5, 13, 0, 0]\n",
      "[0, 0, 0, 4, 12, 18, 0, 0]\n",
      "[0, 0, 3, 11, 17, 0, 0, 0]\n",
      "[0, 2, 10, 16, 20, 0, 0, 0]\n",
      "[1, 9, 15, 19, 0, 0, 0, 0]\n"
     ]
    }
   ],
   "source": [
    "width=int(input(\"Enter the width: \"))\n",
    "massive=[[0] * width for i in range(width)]\n",
    "it=1\n",
    "#i=0\n",
    "for i in range (0,int(width/2)):\n",
    "    for j in range (0,width-2*i):\n",
    "        massive[width-1-j][j+i]=it\n",
    "        it+=1\n",
    "\n",
    "        \n",
    "for i in range (0,width):\n",
    "    print(massive[i])\n",
    "\n",
    "#for i in range (0,width):\n",
    "\n",
    "\n"
   ]
  },
  {
   "cell_type": "code",
   "execution_count": 172,
   "id": "7a5dbec0",
   "metadata": {},
   "outputs": [
    {
     "name": "stdout",
     "output_type": "stream",
     "text": [
      "Enter the width: 8\n",
      "[0, 0, 0, 16, 13, 8, 1, 0]\n",
      "[0, 0, 0, 14, 9, 2, 0, 0]\n",
      "[0, 0, 15, 10, 3, 0, 0, 0]\n",
      "[0, 0, 11, 4, 0, 0, 0, 0]\n",
      "[0, 12, 5, 0, 0, 0, 0, 0]\n",
      "[0, 6, 0, 0, 0, 0, 0, 0]\n",
      "[7, 0, 0, 0, 0, 0, 0, 0]\n",
      "[0, 0, 0, 0, 0, 0, 0, 0]\n"
     ]
    }
   ],
   "source": [
    "width=int(input(\"Enter the width: \"))\n",
    "massive=[[0] * width for i in range(width)]\n",
    "it=1\n",
    "#i=0\n",
    "for i in range (0,int(width/2)):\n",
    "    for j in range (0,width-2*i-1):\n",
    "        massive[j][-j-i-2]=it\n",
    "        it+=1\n",
    "\n",
    "        \n",
    "for i in range (0,width):\n",
    "    print(massive[i])\n",
    "\n",
    "\n"
   ]
  },
  {
   "cell_type": "code",
   "execution_count": null,
   "id": "6ca4e5e4",
   "metadata": {},
   "outputs": [],
   "source": []
  },
  {
   "cell_type": "code",
   "execution_count": 133,
   "id": "a7c0a235",
   "metadata": {},
   "outputs": [
    {
     "name": "stdout",
     "output_type": "stream",
     "text": [
      "Enter the width: 8\n",
      "0  -  0  |  1  -  7\n",
      "1  -  0  |  2  -  7\n",
      "2  -  0  |  3  -  7\n",
      "3  -  0  |  4  -  7\n",
      "4  -  0  |  5  -  7\n",
      "5  -  0  |  6  -  7\n",
      "6  -  0  |  7  -  7\n",
      "0  -  2  |  3  -  6\n",
      "1  -  2  |  4  -  6\n",
      "2  -  2  |  5  -  6\n",
      "3  -  2  |  6  -  6\n",
      "4  -  2  |  7  -  6\n",
      "0  -  4  |  5  -  5\n",
      "1  -  4  |  6  -  5\n",
      "2  -  4  |  7  -  5\n",
      "0  -  6  |  7  -  4\n",
      "[0, 0, 0, 0, 0, 0, 0, 0]\n",
      "[0, 0, 0, 0, 0, 0, 0, 1]\n",
      "[0, 0, 0, 0, 0, 0, 0, 2]\n",
      "[0, 0, 0, 0, 0, 0, 8, 3]\n",
      "[0, 0, 0, 0, 0, 0, 9, 4]\n",
      "[0, 0, 0, 0, 0, 13, 10, 5]\n",
      "[0, 0, 0, 0, 0, 14, 11, 6]\n",
      "[0, 0, 0, 0, 16, 15, 12, 7]\n"
     ]
    }
   ],
   "source": [
    "width=int(input(\"Enter the width: \"))\n",
    "massive=[[0] * width for i in range(width)]\n",
    "it=1\n",
    "#i=0\n",
    "temp=0\n",
    "#i=0\n",
    "#while (i<width):\n",
    "for i in range (0,width,2):\n",
    "#    for j in range (0,width-i):\n",
    "#        massive[width-1-j][j+i]=it\n",
    "#        it+=1\n",
    "    for k in range (0,width-i-1):\n",
    "        massive[k+i+1][width-temp-1]=it\n",
    "        it+=1\n",
    "        print(k,' - ',i,' | ',k+i+1,' - ',width-temp-1)\n",
    "    temp+=1\n",
    "            \n",
    "for i in range (0,width):\n",
    "    print(massive[i])\n"
   ]
  },
  {
   "cell_type": "code",
   "execution_count": null,
   "id": "f5163600",
   "metadata": {},
   "outputs": [],
   "source": []
  },
  {
   "cell_type": "code",
   "execution_count": 173,
   "id": "851d0906",
   "metadata": {},
   "outputs": [
    {
     "name": "stdout",
     "output_type": "stream",
     "text": [
      "Enter the width: 8\n",
      "[6, 10, 12, 0, 0, 0, 0, 0]\n",
      "[5, 9, 11, 0, 0, 0, 0, 0]\n",
      "[4, 8, 0, 0, 0, 0, 0, 0]\n",
      "[3, 7, 0, 0, 0, 0, 0, 0]\n",
      "[2, 0, 0, 0, 0, 0, 0, 0]\n",
      "[1, 0, 0, 0, 0, 0, 0, 0]\n",
      "[0, 0, 0, 0, 0, 0, 0, 0]\n",
      "[0, 0, 0, 0, 0, 0, 0, 0]\n"
     ]
    }
   ],
   "source": [
    "width=int(input(\"Enter the width: \"))\n",
    "massive=[[0] * width for i in range(width)]\n",
    "it=1\n",
    "#i=0\n",
    "temp=0\n",
    "#i=0\n",
    "#while (i<width):\n",
    "for i in range (0,int(width/2),1):\n",
    "    if temp>width:\n",
    "        break\n",
    "    for k in range (0,width-temp-2):\n",
    "        massive[width-(k+temp+3)][i]=it\n",
    "        it+=1\n",
    "    temp+=2\n",
    "            \n",
    "for i in range (0,width):\n",
    "    print(massive[i])\n"
   ]
  },
  {
   "cell_type": "code",
   "execution_count": null,
   "id": "b726b0c2",
   "metadata": {},
   "outputs": [],
   "source": []
  },
  {
   "cell_type": "code",
   "execution_count": 155,
   "id": "13c1faa6",
   "metadata": {},
   "outputs": [
    {
     "name": "stdout",
     "output_type": "stream",
     "text": [
      "Enter the width: 3\n",
      "[0, 0, 3]\n",
      "[0, 2, 4]\n",
      "[1, 6, 5]\n"
     ]
    }
   ],
   "source": [
    "width=int(input(\"Enter the width: \"))\n",
    "massive=[[0] * width for i in range(width)]\n",
    "it=1\n",
    "temp=0\n",
    "for i in range (0,int(width/2)):\n",
    "    for j in range (0,width-2*i):\n",
    "        massive[width-1-j][j+i]=it\n",
    "        it+=1\n",
    "    if temp>width:\n",
    "        break\n",
    "    for k in range (0,width-temp-1):\n",
    "        massive[k+temp+1][width-i-1]=it\n",
    "        it+=1\n",
    "    temp+=2\n",
    "if (width%2==1):\n",
    "    massive[width-1][int(width/2)]=it\n",
    "    it+=1\n",
    "        \n",
    "for i in range (0,width):\n",
    "    print(massive[i])\n"
   ]
  },
  {
   "cell_type": "code",
   "execution_count": null,
   "id": "b72caddc",
   "metadata": {},
   "outputs": [],
   "source": []
  },
  {
   "cell_type": "code",
   "execution_count": 1,
   "id": "91724e5e",
   "metadata": {
    "scrolled": true
   },
   "outputs": [
    {
     "name": "stdout",
     "output_type": "stream",
     "text": [
      "Enter the width: 6\n",
      "\n",
      "[30, 35, 36, 31, 22, 6]\n",
      "\n",
      "[29, 34, 32, 23, 5, 7]\n",
      "\n",
      "[28, 33, 24, 4, 15, 8]\n",
      "\n",
      "[27, 25, 3, 14, 16, 9]\n",
      "\n",
      "[26, 2, 13, 20, 17, 10]\n",
      "\n",
      "[1, 12, 19, 21, 18, 11]\n"
     ]
    }
   ],
   "source": [
    "width=int(input(\"Enter the width: \"))\n",
    "massive=[[0] * width for i in range(width)]\n",
    "it=1\n",
    "temp=0\n",
    "for i in range (0,int(width/2)):\n",
    "    for j in range (0,width-2*i):\n",
    "        massive[width-1-j][j+i]=it\n",
    "        it+=1\n",
    "#    if temp>width:\n",
    "#        break\n",
    "    for k in range (0,width-temp-1):\n",
    "        massive[k+temp+1][width-i-1]=it\n",
    "        it+=1\n",
    "    temp+=2\n",
    "if (width%2==1):\n",
    "    massive[width-1][int(width/2)]=it\n",
    "    it+=1\n",
    "temp=0\n",
    "for i in range (0,int(width/2)):\n",
    "#    if temp>width:\n",
    "#        break\n",
    "    for j in range (0,width-2*i-1):\n",
    "        massive[j][-j-i-2]=it\n",
    "        it+=1\n",
    "    for k in range (0,width-temp-2):\n",
    "        massive[width-(k+temp+3)][i]=it\n",
    "        it+=1\n",
    "    temp+=2\n",
    "    \n",
    "    \n",
    "for i in range (0,width):\n",
    "    print()\n",
    "    print(massive[i])\n"
   ]
  },
  {
   "cell_type": "code",
   "execution_count": null,
   "id": "c68cd51e",
   "metadata": {},
   "outputs": [],
   "source": []
  }
 ],
 "metadata": {
  "kernelspec": {
   "display_name": "Python 3 (ipykernel)",
   "language": "python",
   "name": "python3"
  },
  "language_info": {
   "codemirror_mode": {
    "name": "ipython",
    "version": 3
   },
   "file_extension": ".py",
   "mimetype": "text/x-python",
   "name": "python",
   "nbconvert_exporter": "python",
   "pygments_lexer": "ipython3",
   "version": "3.9.13"
  }
 },
 "nbformat": 4,
 "nbformat_minor": 5
}
