{
 "cells": [
  {
   "cell_type": "code",
   "execution_count": 25,
   "metadata": {},
   "outputs": [],
   "source": [
    "seed=633466621\n",
    "#a=23\n",
    "a=29\n",
    "b=97\n",
    "#M=9876987698769876\n",
    "M=1000000\n",
    "chislo=[0]*16\n",
    "def RNG(down_lim,up_lim):\n",
    "    for i in range(0,19):\n",
    "        global seed\n",
    "        seed =(a*seed+b)%M\n",
    "        temp=seed\n",
    "        chislo=[int(a) for a in str(seed)]\n",
    "        for i in range (0,16-len(chislo)):\n",
    "            chislo.insert(0,0) \n",
    "#    for i in range(0,16):\n",
    "#        chislo[i]=temp//10**(15-i)\n",
    "#        temp=temp%10**(15-i)\n",
    "        temp_mas1=chislo.copy()\n",
    "        temp_mas2=chislo.copy()\n",
    "        temp_mas3=[0]*16\n",
    "        for i in range(0,3):\n",
    "            temp_mas1.pop(0)\n",
    "            temp_mas2.pop(15-i)\n",
    "        for i in range(0,3):\n",
    "            temp_mas1.append(chislo[i])\n",
    "            temp_mas2.insert(0,chislo[15-i]) \n",
    "#    t=0\n",
    "#    for i in range(0,16):\n",
    "#        t+=(temp_mas1[i]*10**(15-i)+temp_mas2[i]*10**(15-i))%10**(16-i)\n",
    "        for i in range(0,16):\n",
    "            temp_mas3[i]=(temp_mas1[i]+temp_mas2[i])%10\n",
    "        t=[int(''.join(map(str,temp_mas3)))]\n",
    "        seed=t[0]\n",
    "        return (int(down_lim+(up_lim-down_lim)*((seed)/(10**16-1))))\n",
    "\n"
   ]
  },
  {
   "cell_type": "code",
   "execution_count": 42,
   "metadata": {
    "scrolled": true
   },
   "outputs": [
    {
     "name": "stdout",
     "output_type": "stream",
     "text": [
      "[9979, 10029, 9971, 10000, 9995, 9946, 9972, 10002, 9994, 10001, 10111, 10008, 9980, 9959, 9958, 9974, 10106, 10027, 9950, 9999, 9966, 10002, 9875, 10030, 10014, 9964, 10062, 10032, 9954, 9937, 10092, 10026, 10012, 10019, 9889, 10040, 10059, 10013, 9956, 9991, 9969, 9963, 9921, 10010, 10034, 9969, 9952, 10040, 10008, 10031, 10020, 10030, 10025, 10086, 9969, 10005, 10002, 10027, 9937, 10049, 9981, 10013, 9998, 10046, 9984, 9923, 10055, 10050, 10050, 9918, 10003, 10009, 10023, 10040, 9991, 10022, 10049, 10106, 9983, 9961, 10003, 10037, 10014, 9958, 10000, 10016, 10015, 10016, 9936, 10016, 10001, 9906, 10042, 10011, 10000, 9924, 9932, 9967, 10041, 10019]\n"
     ]
    }
   ],
   "source": [
    "rng_numbers=[0]*1000000\n",
    "rng_numbers_count=[0]*100\n",
    "for i in range(0,1000000):\n",
    "    rng_numbers[i]=RNG(0,100)\n",
    "for i in range(0,1000000):\n",
    "    for j in range(0,101):\n",
    "        if (rng_numbers[i]==j):\n",
    "            rng_numbers_count[j]+=1\n",
    "            break\n",
    "print(rng_numbers_count)"
   ]
  },
  {
   "cell_type": "code",
   "execution_count": null,
   "metadata": {},
   "outputs": [],
   "source": [
    "import numpy as np\n",
    "First_ten=[0]*10\n",
    "ten=[]\n",
    "it=0\n",
    "for i in range (0,10):\n",
    "    First_ten[i]=RNG(0,100)\n",
    "for i in range (0,11):\n",
    "    ten.append(RNG(0,100))\n",
    "while (np.array_equal(First_ten,ten)==False):\n",
    "    ten.pop(0)\n",
    "    ten.append(RNG(0,100))\n",
    "    it+=1\n",
    "print(it)"
   ]
  },
  {
   "cell_type": "code",
   "execution_count": 26,
   "metadata": {
    "scrolled": true
   },
   "outputs": [
    {
     "name": "stdout",
     "output_type": "stream",
     "text": [
      "11\n",
      "11  -  1060000532106532\n",
      "11  -  1060000532106532\n",
      "897309\n"
     ]
    }
   ],
   "source": [
    "First=RNG(1,100)\n",
    "First_seed=seed\n",
    "it_temp=0\n",
    "it=0\n",
    "temp=RNG(1,100)\n",
    "print(First)\n",
    "while (First_seed!=seed):\n",
    "    it_temp_2=seed\n",
    "    it_temp=RNG(1,100)\n",
    "    it+=1\n",
    "    if (it_temp_2==seed):\n",
    "        print(it_temp_2,' - ',seed)\n",
    "        break\n",
    "print(First,' - ',First_seed)\n",
    "print(it_temp,' - ',seed)\n",
    "print(it)"
   ]
  },
  {
   "cell_type": "code",
   "execution_count": null,
   "metadata": {},
   "outputs": [],
   "source": []
  }
 ],
 "metadata": {
  "kernelspec": {
   "display_name": "Python 3",
   "language": "python",
   "name": "python3"
  },
  "language_info": {
   "codemirror_mode": {
    "name": "ipython",
    "version": 3
   },
   "file_extension": ".py",
   "mimetype": "text/x-python",
   "name": "python",
   "nbconvert_exporter": "python",
   "pygments_lexer": "ipython3",
   "version": "3.8.5"
  }
 },
 "nbformat": 4,
 "nbformat_minor": 4
}
